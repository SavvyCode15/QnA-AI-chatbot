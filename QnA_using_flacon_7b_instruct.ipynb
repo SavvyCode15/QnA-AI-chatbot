{
  "nbformat": 4,
  "nbformat_minor": 0,
  "metadata": {
    "colab": {
      "provenance": [],
      "gpuType": "T4",
      "authorship_tag": "ABX9TyMvcUF8p7BLKCur5MWsR+m6",
      "include_colab_link": true
    },
    "kernelspec": {
      "name": "python3",
      "display_name": "Python 3"
    },
    "language_info": {
      "name": "python"
    },
    "accelerator": "GPU"
  },
  "cells": [
    {
      "cell_type": "markdown",
      "metadata": {
        "id": "view-in-github",
        "colab_type": "text"
      },
      "source": [
        "<a href=\"https://colab.research.google.com/github/SavvyCode15/QnA-AI-chatbot/blob/main/Copy_of_QnA_using_flacon_7b_instruct.ipynb\" target=\"_parent\"><img src=\"https://colab.research.google.com/assets/colab-badge.svg\" alt=\"Open In Colab\"/></a>"
      ]
    },
    {
      "cell_type": "code",
      "execution_count": null,
      "metadata": {
        "id": "71tOmKUJjWnB"
      },
      "outputs": [],
      "source": [
        "!pip install transformers accelerate einops"
      ]
    },
    {
      "cell_type": "code",
      "source": [
        "from transformers import AutoTokenizer, AutoModelForCausalLM\n",
        "import transformers\n",
        "import torch\n",
        "\n",
        "\n",
        "model=\"tiiuae/falcon-7b-instruct\"\n",
        "\n",
        "tokenizer=AutoTokenizer.from_pretrained(model)"
      ],
      "metadata": {
        "id": "uTTaGClk0a_-"
      },
      "execution_count": null,
      "outputs": []
    },
    {
      "cell_type": "code",
      "source": [
        "pipeline = transformers.pipeline(\n",
        "    \"text-generation\",\n",
        "    model=model,\n",
        "    tokenizer=tokenizer,\n",
        "    torch_dtype=torch.bfloat16,\n",
        "    trust_remote_code=True,\n",
        "    device_map=\"auto\",\n",
        ")\n",
        "\n"
      ],
      "metadata": {
        "id": "N4JStrUD2qTA"
      },
      "execution_count": null,
      "outputs": []
    },
    {
      "cell_type": "code",
      "source": [
        "prompt=\"ENTER_YOUR_PROMPT\""
      ],
      "metadata": {
        "id": "_tuC-yFh4tNe"
      },
      "execution_count": null,
      "outputs": []
    },
    {
      "cell_type": "code",
      "source": [
        "sequences=pipeline(\n",
        "    prompt,\n",
        "    max_length=200,\n",
        "    do_sample=True,\n",
        "    top_k=10,\n",
        "    num_return_sequences=1,\n",
        "    eos_token_id=tokenizer.eos_token_id,\n",
        ")\n"
      ],
      "metadata": {
        "colab": {
          "base_uri": "https://localhost:8080/"
        },
        "id": "YWb2szUq3XsD",
        "outputId": "0d5f647a-f481-4d2d-ac6e-80dcd3136476"
      },
      "execution_count": null,
      "outputs": [
        {
          "output_type": "stream",
          "name": "stderr",
          "text": [
            "Setting `pad_token_id` to `eos_token_id`:11 for open-end generation.\n"
          ]
        }
      ]
    },
    {
      "cell_type": "code",
      "source": [
        "for seq in sequences:\n",
        "  print(f\"Result:{seq['generated_text']}\")"
      ],
      "metadata": {
        "colab": {
          "base_uri": "https://localhost:8080/"
        },
        "id": "DllpoPLy4ir6",
        "outputId": "8194d043-8782-4215-a4ca-f5b5a305a109"
      },
      "execution_count": null,
      "outputs": [
        {
          "output_type": "stream",
          "name": "stdout",
          "text": [
            "Result:write an essay on pollution\n",
            "Pollution has become a major and pressing issue in many nations throughout the world. It is a complex problem that is affecting the environment, human health, and the economy. The effects of pollution are felt all across the globe, from the smallest towns to the largest cities. The effects range from mild to severe, depending on the type and amount of pollution present. For instance, air pollution can lead to respiratory illnesses and poor air quality, while water pollution is a serious threat to aquatic life. Pollution is also a leading source of climate change, with emissions from cars and factories contributing to an increase in global temperatures. Pollution may also lead to an increase in the prices of goods and services, due to the need to treat the pollution itself. In addition, pollution has been linked to an increase in global poverty and inequality due to the fact the poor nations suffer more from the economic costs of the environmental problems. To combat this problem, it is important to develop and implement laws and\n"
          ]
        }
      ]
    }
  ]
}
